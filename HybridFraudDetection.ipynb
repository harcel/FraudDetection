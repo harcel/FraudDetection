{
 "cells": [
  {
   "cell_type": "markdown",
   "metadata": {},
   "source": [
    "# A Hybrid Fraud Detection Model\n",
    "\n",
    "Every fraud detection model in models.py by itself is a valuable model that is capable of finding suspicious service providers. The real power of a hybrid detection model is the combination of all these models into one. Often, the real fraudsters know how to stay under the radar on any aspect that is typically investigated. Combining all these models into one makes financial criminals that are just a little bit smarter than their obvious colleagues float to the surface.\n",
    "\n",
    "All models are run with a set of parameters and a weight and the scores are then combined, as explained in models_explanation.pdf. Here we show one particular run of the hybrid model, with one set of model parameters and model weights.\n",
    "\n",
    "This can be wrapped into a nice GUI in which the model parameters can be set and the results (visually) investigated. This demo just runs from the notebook. Feel free to see what happens when the model ingredients are tweaked!\n",
    "\n",
    "### Running the models\n",
    "Running the models depends on a set of parameters, and then the results are gathered into a data structure that is called the hitlist here. Below, the run is initialized and controlled by a function called \"process()\". The argument to the function is a dictionary of parameter settings of all models that need to be used."
   ]
  },
  {
   "cell_type": "code",
   "execution_count": 1,
   "metadata": {},
   "outputs": [],
   "source": [
    "import models, pickle\n",
    "import pandas as pd\n",
    "\n",
    "# The warnings filtered are the \"Setting with copy\" thing.\n",
    "import warnings\n",
    "warnings.filterwarnings('ignore')"
   ]
  },
  {
   "cell_type": "code",
   "execution_count": 2,
   "metadata": {},
   "outputs": [],
   "source": [
    "def process(modelsdict):\n",
    "    # The data needs to be read here. In general, this would likely be done elsewhere.\n",
    "    datafile = './data/mock_healthcare.pickle'\n",
    "    df = open(datafile, 'rb')\n",
    "    data = pickle.load(df)\n",
    "    df.close()\n",
    "\n",
    "    # Initialization of data structures for results. Outdata is a helper for if visualization in a GUI is desired.\n",
    "    hitlist = pd.DataFrame({'Provider_ID':[], 'Score':[], \"Model\":[], \"Monetary\":[], 'Weight':[]})\n",
    "    outdata = {}\n",
    "\n",
    "    allmodels = modelsdict.keys()\n",
    "    \n",
    "    for model in allmodels:\n",
    "        if   model == 'costs': hitlist, outdata = models.cost_per_member(data, modelsdict[model], hitlist, outdata)\n",
    "        elif model == 'billing':   hitlist, outdata = models.billing_pattern(data, modelsdict[model], hitlist, outdata)\n",
    "        elif model == 'weekends': hitlist, outdata = models.weekends_holidays(data, modelsdict[model], hitlist, outdata)\n",
    "        elif model == 'seasonality': hitlist, outdata = models.seasonality(data, modelsdict[model], hitlist, outdata)\n",
    "        elif model == 'increasing_revenue': hitlist, outdata = models.rising_revenue(data, modelsdict[model], hitlist, outdata)\n",
    "        elif model == 'combination': hitlist, outdata = models.combination_codes(data, modelsdict[model], hitlist, outdata)\n",
    "        elif model == 'periodic_often': hitlist, outdata = models.periodic_often(data, modelsdict[model], hitlist, outdata)\n",
    "        elif model == 'freely_billed': hitlist, outdata = models.freely_billed(data, modelsdict[model], hitlist, outdata)\n",
    "        elif model == 'fraction_expensive': hitlist, outdata = models.fraction_expensive(data, modelsdict[model], hitlist, outdata)\n",
    "        else:\n",
    "            print(\"Model not yet implemented!\")\n",
    "    \n",
    "    totals = total_score(hitlist)\n",
    "\n",
    "    return totals, hitlist"
   ]
  },
  {
   "cell_type": "markdown",
   "metadata": {},
   "source": [
    "The models dict that is input to that function has dicts in it, one per model, with the model parameters. Below, one example is filled up and consequently run, resulting in what would be the hitlist for this specific set of options and parameters. Note that models do not have predefined defaults for the parameters, they *must* be specified. In a realistic implementation, the dictionary can be filled up by a GUI or some other, more user-friendly way."
   ]
  },
  {
   "cell_type": "code",
   "execution_count": 3,
   "metadata": {},
   "outputs": [],
   "source": [
    "# Example of the model settings. All setting options are listed as well, if they exist.\n",
    "# If any model needs to be turned off, it can be removed. \n",
    "# The weight can be set to 0, in which case it will be run, but not count towards the total score. Results are available though.\n",
    "\n",
    "modelsdict = {\n",
    "    'costs': {'Grouping':'Per specialism',                   # Options: ['Per specialism', 'By determined peer group', 'Overall']\n",
    "              'Outlier definition': 'Above 90th percentile', # Options: ['Above 90th percentile', 'Above 95th percentile', 'Statistical outlier'],\n",
    "              'Weight': 1\n",
    "             },\n",
    "    'combination': {'Weight': 1},\n",
    "    'weekends': {'Weight': 1,\n",
    "                'Flag': 'too many'   # No other options implemented\n",
    "                },\n",
    "    'billing': {'Weight': 0.5},\n",
    "    'seasonality': {'Weight': 1},\n",
    "    'increasing_revenue': {'Weight': 2},\n",
    "    'periodic_often': {'Weight': 1, \n",
    "                'maxnumber': 2  # Any integer should work, but most don't work as well as say 2 or 3...\n",
    "                      },\n",
    "    'freely_billed':{'Weight': 1, \n",
    "                    \"Grouping\":'per_specialism',    # Options: 'overall' 'per_specialism'\n",
    "                    \"Group_codes\": \"per_procedure\", # Options: 'overall' 'per_procedure'\n",
    "                    \"Outlier\":'statistical'         # Options: 'statistical' 'percentile'\n",
    "                    },\n",
    "    'fraction_expensive': {'Weight': 1, \n",
    "                        \"Grouping\":'per_specialism',  # Options: 'overall', 'per_specialism'\n",
    "                        \"Ratio\": 'price',             # Options:['number', 'price']}\n",
    "                        \"Outlier\":'percentile'        # Options: 'statistical', 'percentile'\n",
    "                        }\n",
    "}\n"
   ]
  },
  {
   "cell_type": "code",
   "execution_count": 4,
   "metadata": {},
   "outputs": [],
   "source": [
    "# To construct the total score after running all models:\n",
    "def total_score(hitlist):\n",
    "    \"\"\" \n",
    "    From the hitlist, construct the actual hitlist, with one entry per flagged provider.\n",
    "    \"\"\"\n",
    "\n",
    "    hitlist['scorexweight'] = hitlist.Score * hitlist.Weight\n",
    "\n",
    "    # Combine scores, monetary values and construct total scores and hitlist\n",
    "    per_prov = hitlist.groupby('Provider_ID')\n",
    "    weighted_total = per_prov.scorexweight.sum()\n",
    "    sum_weighted = weighted_total / per_prov.Weight.sum()\n",
    "\n",
    "    # For now, monetary amounts are *unweighted*\n",
    "    total_loss = per_prov.Monetary.sum()\n",
    "\n",
    "    # Number of flags\n",
    "    n_flags = per_prov.Model.count()\n",
    "\n",
    "    totals = pd.concat([sum_weighted, total_loss, n_flags], axis=1)\n",
    "    totals.rename(columns={0:'Weighted_score', 'Model':'N_flags'}, inplace=True)\n",
    "\n",
    "    # Total Score is a a 40-40-20 weighted sum of weighted score, monetary and N_flags\n",
    "    # It therefore, by definition, runs from 0 to 100.\n",
    "    max_w_score = totals.Weighted_score.max()\n",
    "    max_mon = totals.Monetary.max()\n",
    "    max_flags = totals.N_flags.max()\n",
    "\n",
    "    totals['Total_score'] = 40 * totals.Weighted_score / max_w_score + \\\n",
    "                            40 * totals.Monetary / max_mon + \\\n",
    "                            20 * totals.N_flags / max_flags\n",
    "\n",
    "\n",
    "    totals.sort_values('Total_score', ascending=False, inplace=True)\n",
    "\n",
    "\n",
    "\n",
    "    return totals\n"
   ]
  },
  {
   "cell_type": "code",
   "execution_count": 5,
   "metadata": {},
   "outputs": [],
   "source": [
    "# Finally, the model can be run:\n",
    "\n",
    "total_scores, hitlist = process(modelsdict)"
   ]
  },
  {
   "cell_type": "markdown",
   "metadata": {},
   "source": [
    "The result of this model is a lits of providers with their respective total fraud risk score, as well as an estimate for the total monetary loss. Below, the top 5 is listed, and there is an interactive graph (meaning that you can zoom and pan) showing those values plotted against each other, a mouse-over will show you the provider ID you're looking at. The size and color mean the same thing: the number of different fraud models the provider scored on. Feel free to explore more!"
   ]
  },
  {
   "cell_type": "code",
   "execution_count": 23,
   "metadata": {},
   "outputs": [
    {
     "data": {
      "text/html": [
       "<div>\n",
       "<style scoped>\n",
       "    .dataframe tbody tr th:only-of-type {\n",
       "        vertical-align: middle;\n",
       "    }\n",
       "\n",
       "    .dataframe tbody tr th {\n",
       "        vertical-align: top;\n",
       "    }\n",
       "\n",
       "    .dataframe thead th {\n",
       "        text-align: right;\n",
       "    }\n",
       "</style>\n",
       "<table border=\"1\" class=\"dataframe\">\n",
       "  <thead>\n",
       "    <tr style=\"text-align: right;\">\n",
       "      <th></th>\n",
       "      <th>Total_score</th>\n",
       "      <th>Monetary</th>\n",
       "    </tr>\n",
       "    <tr>\n",
       "      <th>Provider_ID</th>\n",
       "      <th></th>\n",
       "      <th></th>\n",
       "    </tr>\n",
       "  </thead>\n",
       "  <tbody>\n",
       "    <tr>\n",
       "      <th>1000429.0</th>\n",
       "      <td>64.149195</td>\n",
       "      <td>2876.445909</td>\n",
       "    </tr>\n",
       "    <tr>\n",
       "      <th>1000257.0</th>\n",
       "      <td>58.644061</td>\n",
       "      <td>1830.817971</td>\n",
       "    </tr>\n",
       "    <tr>\n",
       "      <th>1000220.0</th>\n",
       "      <td>57.890785</td>\n",
       "      <td>2142.000000</td>\n",
       "    </tr>\n",
       "    <tr>\n",
       "      <th>1000319.0</th>\n",
       "      <td>57.172704</td>\n",
       "      <td>2212.108197</td>\n",
       "    </tr>\n",
       "    <tr>\n",
       "      <th>1000179.0</th>\n",
       "      <td>56.271528</td>\n",
       "      <td>2233.000000</td>\n",
       "    </tr>\n",
       "  </tbody>\n",
       "</table>\n",
       "</div>"
      ],
      "text/plain": [
       "             Total_score     Monetary\n",
       "Provider_ID                          \n",
       "1000429.0      64.149195  2876.445909\n",
       "1000257.0      58.644061  1830.817971\n",
       "1000220.0      57.890785  2142.000000\n",
       "1000319.0      57.172704  2212.108197\n",
       "1000179.0      56.271528  2233.000000"
      ]
     },
     "execution_count": 23,
     "metadata": {},
     "output_type": "execute_result"
    }
   ],
   "source": [
    "total_scores[['Total_score', 'Monetary']].head(5)"
   ]
  },
  {
   "cell_type": "code",
   "execution_count": 30,
   "metadata": {},
   "outputs": [
    {
     "data": {
      "application/vnd.vegalite.v2+json": {
       "$schema": "https://vega.github.io/schema/vega-lite/v2.6.0.json",
       "config": {
        "view": {
         "height": 300,
         "width": 400
        }
       },
       "data": {
        "name": "data-4b4adda9189aa734420a3f659ca49c1c"
       },
       "datasets": {
        "data-4b4adda9189aa734420a3f659ca49c1c": [
         {
          "Monetary": 2876.445908887228,
          "N_flags": 2,
          "Provider_ID": 1000429,
          "Total_score": 64.14919508724877,
          "Weighted_score": 2.1434438678077594
         },
         {
          "Monetary": 1830.8179709627075,
          "N_flags": 2,
          "Provider_ID": 1000257,
          "Total_score": 58.64406131104416,
          "Weighted_score": 3.512208400928272
         },
         {
          "Monetary": 2142,
          "N_flags": 1,
          "Provider_ID": 1000220,
          "Total_score": 57.8907846084435,
          "Weighted_score": 3.5
         },
         {
          "Monetary": 2212.108197353936,
          "N_flags": 3,
          "Provider_ID": 1000319,
          "Total_score": 57.17270430802115,
          "Weighted_score": 1.7286407841651048
         },
         {
          "Monetary": 2233,
          "N_flags": 2,
          "Provider_ID": 1000179,
          "Total_score": 56.27152786008181,
          "Weighted_score": 2.3055555555555554
         },
         {
          "Monetary": 2006,
          "N_flags": 1,
          "Provider_ID": 1000420,
          "Total_score": 54.53263955393915,
          "Weighted_score": 3.2777777777777777
         },
         {
          "Monetary": 2304.831625062814,
          "N_flags": 2,
          "Provider_ID": 1000490,
          "Total_score": 54.07384467252887,
          "Weighted_score": 1.8213100519529264
         },
         {
          "Monetary": 2028.2268575339874,
          "N_flags": 4,
          "Provider_ID": 1000097,
          "Total_score": 53.7780605915746,
          "Weighted_score": 0.8443129921960766
         },
         {
          "Monetary": 714,
          "N_flags": 3,
          "Provider_ID": 1000313,
          "Total_score": 51.613904769260834,
          "Weighted_score": 4.04247503779701
         },
         {
          "Monetary": 2242.407258365244,
          "N_flags": 2,
          "Provider_ID": 1000006,
          "Total_score": 50.55901986012816,
          "Weighted_score": 1.4203574377134967
         },
         {
          "Monetary": 0,
          "N_flags": 2,
          "Provider_ID": 1000034,
          "Total_score": 50,
          "Weighted_score": 6.059549973240323
         },
         {
          "Monetary": 2347.6088784221406,
          "N_flags": 2,
          "Provider_ID": 1000310,
          "Total_score": 49.07910478741907,
          "Weighted_score": 0.9745481600008803
         },
         {
          "Monetary": 2043.2545451829712,
          "N_flags": 1,
          "Provider_ID": 1000117,
          "Total_score": 48.472326727513476,
          "Weighted_score": 2.2812277663898817
         },
         {
          "Monetary": 1510.7530745661309,
          "N_flags": 3,
          "Provider_ID": 1000205,
          "Total_score": 47.8039135691822,
          "Weighted_score": 1.7868561703031265
         },
         {
          "Monetary": 2163.548155627524,
          "N_flags": 2,
          "Provider_ID": 1000161,
          "Total_score": 47.18795278806987,
          "Weighted_score": 1.0758040845238002
         },
         {
          "Monetary": 0,
          "N_flags": 2,
          "Provider_ID": 1000478,
          "Total_score": 46.1259545263139,
          "Weighted_score": 5.472675669580162
         },
         {
          "Monetary": 2067.118504562861,
          "N_flags": 2,
          "Provider_ID": 1000068,
          "Total_score": 45.26680092115667,
          "Weighted_score": 0.987910866779161
         },
         {
          "Monetary": 1904.918237930582,
          "N_flags": 2,
          "Provider_ID": 1000155,
          "Total_score": 44.65604138420876,
          "Weighted_score": 1.2370803865738988
         },
         {
          "Monetary": 1530,
          "N_flags": 1,
          "Provider_ID": 1000248,
          "Total_score": 42.77913186317393,
          "Weighted_score": 2.5
         },
         {
          "Monetary": 2132.1472913385724,
          "N_flags": 1,
          "Provider_ID": 1000316,
          "Total_score": 41.90864923082319,
          "Weighted_score": 1.0996421154794027
         },
         {
          "Monetary": 906.5831370326542,
          "N_flags": 1,
          "Provider_ID": 1000366,
          "Total_score": 41.730364810315116,
          "Weighted_score": 3.654419844244403
         },
         {
          "Monetary": 818.3500910975911,
          "N_flags": 2,
          "Provider_ID": 1000447,
          "Total_score": 40.3682884797072,
          "Weighted_score": 2.87650948255643
         },
         {
          "Monetary": 1428,
          "N_flags": 1,
          "Provider_ID": 1000003,
          "Total_score": 40.26052307229567,
          "Weighted_score": 2.3333333333333335
         },
         {
          "Monetary": 36.324641973847406,
          "N_flags": 2,
          "Provider_ID": 1000262,
          "Total_score": 39.24313772908453,
          "Weighted_score": 4.3534845038179215
         },
         {
          "Monetary": 1457.6755382446543,
          "N_flags": 3,
          "Provider_ID": 1000443,
          "Total_score": 38.272119247034176,
          "Weighted_score": 0.45471024309519276
         },
         {
          "Monetary": 1394.8446635266405,
          "N_flags": 2,
          "Provider_ID": 1000074,
          "Total_score": 37.07599931949307,
          "Weighted_score": 1.1633154324831685
         },
         {
          "Monetary": 0,
          "N_flags": 2,
          "Provider_ID": 1000011,
          "Total_score": 36.44036793073612,
          "Weighted_score": 4.005418269678909
         },
         {
          "Monetary": 1224,
          "N_flags": 1,
          "Provider_ID": 1000031,
          "Total_score": 35.22330549053915,
          "Weighted_score": 2
         },
         {
          "Monetary": 1224,
          "N_flags": 1,
          "Provider_ID": 1000311,
          "Total_score": 35.22330549053915,
          "Weighted_score": 2
         },
         {
          "Monetary": 319.4314424787059,
          "N_flags": 2,
          "Provider_ID": 1000110,
          "Total_score": 35.06653366962332,
          "Weighted_score": 3.124380336081475
         },
         {
          "Monetary": 1190,
          "N_flags": 1,
          "Provider_ID": 1000397,
          "Total_score": 34.38376922691305,
          "Weighted_score": 1.9444444444444444
         },
         {
          "Monetary": 1636.139772218067,
          "N_flags": 1,
          "Provider_ID": 1000078,
          "Total_score": 34.183336120398636,
          "Weighted_score": 0.9742385383822553
         },
         {
          "Monetary": 464.77572313266535,
          "N_flags": 2,
          "Provider_ID": 1000271,
          "Total_score": 33.568878995004084,
          "Weighted_score": 2.5913187744332147
         },
         {
          "Monetary": 676.9955466234561,
          "N_flags": 4,
          "Provider_ID": 1000261,
          "Total_score": 33.52055860239132,
          "Weighted_score": 0.622046863945228
         },
         {
          "Monetary": 174.0568579910956,
          "N_flags": 3,
          "Provider_ID": 1000446,
          "Total_score": 33.136226479754285,
          "Weighted_score": 2.3807643338306925
         },
         {
          "Monetary": 989.2261999126869,
          "N_flags": 2,
          "Provider_ID": 1000299,
          "Total_score": 32.922808172838785,
          "Weighted_score": 1.3886336478350607
         },
         {
          "Monetary": 1122,
          "N_flags": 1,
          "Provider_ID": 1000306,
          "Total_score": 32.70469669966088,
          "Weighted_score": 1.8333333333333333
         },
         {
          "Monetary": 1088,
          "N_flags": 1,
          "Provider_ID": 1000175,
          "Total_score": 31.86516043603479,
          "Weighted_score": 1.7777777777777777
         },
         {
          "Monetary": 826.875764469273,
          "N_flags": 1,
          "Provider_ID": 1000055,
          "Total_score": 31.504103339216392,
          "Weighted_score": 2.2731686388964
         },
         {
          "Monetary": 843.6268342010699,
          "N_flags": 3,
          "Provider_ID": 1000284,
          "Total_score": 30.998358483938766,
          "Weighted_score": 0.6463785174746767
         },
         {
          "Monetary": 492.79556221836145,
          "N_flags": 1,
          "Provider_ID": 1000404,
          "Total_score": 30.99394446306398,
          "Weighted_score": 2.899662033514472
         },
         {
          "Monetary": 1020,
          "N_flags": 1,
          "Provider_ID": 1000118,
          "Total_score": 30.186087908782618,
          "Weighted_score": 1.6666666666666667
         },
         {
          "Monetary": 716.9528209912304,
          "N_flags": 1,
          "Provider_ID": 1000164,
          "Total_score": 29.77243813900422,
          "Weighted_score": 2.242405625242286
         },
         {
          "Monetary": 986,
          "N_flags": 1,
          "Provider_ID": 1000258,
          "Total_score": 29.34655164515653,
          "Weighted_score": 1.6111111111111112
         },
         {
          "Monetary": 986,
          "N_flags": 1,
          "Provider_ID": 1000180,
          "Total_score": 29.34655164515653,
          "Weighted_score": 1.6111111111111112
         },
         {
          "Monetary": 952,
          "N_flags": 1,
          "Provider_ID": 1000054,
          "Total_score": 28.507015381530444,
          "Weighted_score": 1.5555555555555556
         },
         {
          "Monetary": 830.2978791365291,
          "N_flags": 2,
          "Provider_ID": 1000320,
          "Total_score": 28.352537926268933,
          "Weighted_score": 1.031089128114003
         },
         {
          "Monetary": 1254.6379865571287,
          "N_flags": 1,
          "Provider_ID": 1000398,
          "Total_score": 27.955698421901943,
          "Weighted_score": 0.8344970029431793
         },
         {
          "Monetary": 960.7831930134504,
          "N_flags": 2,
          "Provider_ID": 1000040,
          "Total_score": 27.910513174200727,
          "Weighted_score": 0.6892456725197751
         },
         {
          "Monetary": 918,
          "N_flags": 1,
          "Provider_ID": 1000225,
          "Total_score": 27.667479117904357,
          "Weighted_score": 1.5
         },
         {
          "Monetary": 918,
          "N_flags": 1,
          "Provider_ID": 1000007,
          "Total_score": 27.667479117904357,
          "Weighted_score": 1.5
         },
         {
          "Monetary": 918,
          "N_flags": 1,
          "Provider_ID": 1000489,
          "Total_score": 27.667479117904357,
          "Weighted_score": 1.5
         },
         {
          "Monetary": 884,
          "N_flags": 1,
          "Provider_ID": 1000251,
          "Total_score": 26.82794285427827,
          "Weighted_score": 1.4444444444444444
         },
         {
          "Monetary": 703,
          "N_flags": 2,
          "Provider_ID": 1000215,
          "Total_score": 26.74383384638611,
          "Weighted_score": 1.0555555555555556
         },
         {
          "Monetary": 164.40824915824942,
          "N_flags": 2,
          "Provider_ID": 1000010,
          "Total_score": 26.31372096613201,
          "Weighted_score": 2.125001109639018
         },
         {
          "Monetary": 850,
          "N_flags": 1,
          "Provider_ID": 1000314,
          "Total_score": 25.988406590652183,
          "Weighted_score": 1.3888888888888888
         },
         {
          "Monetary": 850,
          "N_flags": 1,
          "Provider_ID": 1000115,
          "Total_score": 25.988406590652183,
          "Weighted_score": 1.3888888888888888
         },
         {
          "Monetary": 850,
          "N_flags": 1,
          "Provider_ID": 1000235,
          "Total_score": 25.988406590652183,
          "Weighted_score": 1.3888888888888888
         },
         {
          "Monetary": 850,
          "N_flags": 1,
          "Provider_ID": 1000017,
          "Total_score": 25.988406590652183,
          "Weighted_score": 1.3888888888888888
         },
         {
          "Monetary": 461.08494513524056,
          "N_flags": 1,
          "Provider_ID": 1000072,
          "Total_score": 25.116330667935273,
          "Weighted_score": 2.076071576527762
         },
         {
          "Monetary": 447.31885292151003,
          "N_flags": 2,
          "Provider_ID": 1000350,
          "Total_score": 24.71403605646664,
          "Weighted_score": 1.2866845110676235
         },
         {
          "Monetary": 0,
          "N_flags": 2,
          "Provider_ID": 1000050,
          "Total_score": 24.57157971791397,
          "Weighted_score": 2.2074303872438708
         },
         {
          "Monetary": 782,
          "N_flags": 1,
          "Provider_ID": 1000145,
          "Total_score": 24.30933406340001,
          "Weighted_score": 1.2777777777777777
         },
         {
          "Monetary": 782,
          "N_flags": 1,
          "Provider_ID": 1000368,
          "Total_score": 24.30933406340001,
          "Weighted_score": 1.2777777777777777
         },
         {
          "Monetary": 782,
          "N_flags": 1,
          "Provider_ID": 1000075,
          "Total_score": 24.30933406340001,
          "Weighted_score": 1.2777777777777777
         },
         {
          "Monetary": 782,
          "N_flags": 1,
          "Provider_ID": 1000296,
          "Total_score": 24.30933406340001,
          "Weighted_score": 1.2777777777777777
         },
         {
          "Monetary": 288.4081695096834,
          "N_flags": 2,
          "Provider_ID": 1000450,
          "Total_score": 24.19904995014622,
          "Weighted_score": 1.5434327588851748
         },
         {
          "Monetary": 110.90533191254725,
          "N_flags": 1,
          "Provider_ID": 1000158,
          "Total_score": 23.85173685808134,
          "Weighted_score": 2.622191748174126
         },
         {
          "Monetary": 748,
          "N_flags": 1,
          "Provider_ID": 1000231,
          "Total_score": 23.46979779977392,
          "Weighted_score": 1.2222222222222223
         },
         {
          "Monetary": 748,
          "N_flags": 1,
          "Provider_ID": 1000012,
          "Total_score": 23.46979779977392,
          "Weighted_score": 1.2222222222222223
         },
         {
          "Monetary": 0,
          "N_flags": 2,
          "Provider_ID": 1000475,
          "Total_score": 23.4355338759051,
          "Weighted_score": 2.035332223455255
         },
         {
          "Monetary": 526.5644807186624,
          "N_flags": 2,
          "Provider_ID": 1000178,
          "Total_score": 23.067387063455882,
          "Weighted_score": 0.8702960754719027
         },
         {
          "Monetary": 184.4522052895415,
          "N_flags": 2,
          "Provider_ID": 1000286,
          "Total_score": 22.88901205234164,
          "Weighted_score": 1.5639714392487323
         },
         {
          "Monetary": 714,
          "N_flags": 1,
          "Provider_ID": 1000131,
          "Total_score": 22.630261536147835,
          "Weighted_score": 1.1666666666666667
         },
         {
          "Monetary": 714,
          "N_flags": 1,
          "Provider_ID": 1000405,
          "Total_score": 22.630261536147835,
          "Weighted_score": 1.1666666666666667
         },
         {
          "Monetary": 714,
          "N_flags": 1,
          "Provider_ID": 1000081,
          "Total_score": 22.630261536147835,
          "Weighted_score": 1.1666666666666667
         },
         {
          "Monetary": 714,
          "N_flags": 1,
          "Provider_ID": 1000417,
          "Total_score": 22.630261536147835,
          "Weighted_score": 1.1666666666666667
         },
         {
          "Monetary": 654.5833924050639,
          "N_flags": 2,
          "Provider_ID": 1000207,
          "Total_score": 22.596541821929513,
          "Weighted_score": 0.5292823877135865
         },
         {
          "Monetary": 460.405489288703,
          "N_flags": 2,
          "Provider_ID": 1000029,
          "Total_score": 22.026114175084537,
          "Weighted_score": 0.8519261467503196
         },
         {
          "Monetary": 680,
          "N_flags": 1,
          "Provider_ID": 1000008,
          "Total_score": 21.790725272521744,
          "Weighted_score": 1.1111111111111112
         },
         {
          "Monetary": 680,
          "N_flags": 1,
          "Provider_ID": 1000094,
          "Total_score": 21.790725272521744,
          "Weighted_score": 1.1111111111111112
         },
         {
          "Monetary": 680,
          "N_flags": 1,
          "Provider_ID": 1000422,
          "Total_score": 21.790725272521744,
          "Weighted_score": 1.1111111111111112
         },
         {
          "Monetary": 825.9407139656444,
          "N_flags": 1,
          "Provider_ID": 1000163,
          "Total_score": 21.65043515256483,
          "Weighted_score": 0.7824185558028443
         },
         {
          "Monetary": 557.1688377242217,
          "N_flags": 2,
          "Provider_ID": 1000217,
          "Total_score": 21.497678093400783,
          "Weighted_score": 0.5680313795374504
         },
         {
          "Monetary": 271.7155510631157,
          "N_flags": 2,
          "Provider_ID": 1000438,
          "Total_score": 21.35734848225333,
          "Weighted_score": 1.1481117959798324
         },
         {
          "Monetary": 646,
          "N_flags": 1,
          "Provider_ID": 1000391,
          "Total_score": 20.95118900889566,
          "Weighted_score": 1.0555555555555556
         },
         {
          "Monetary": 646,
          "N_flags": 1,
          "Provider_ID": 1000237,
          "Total_score": 20.95118900889566,
          "Weighted_score": 1.0555555555555556
         },
         {
          "Monetary": 861.5397722180745,
          "N_flags": 1,
          "Provider_ID": 1000090,
          "Total_score": 20.367027426786798,
          "Weighted_score": 0.5130033892557004
         },
         {
          "Monetary": 108.34731789965929,
          "N_flags": 2,
          "Provider_ID": 1000236,
          "Total_score": 20.19494281409154,
          "Weighted_score": 1.316173583362337
         },
         {
          "Monetary": 346.47299176874446,
          "N_flags": 2,
          "Provider_ID": 1000106,
          "Total_score": 20.127916565742318,
          "Weighted_score": 0.8043819137126615
         },
         {
          "Monetary": 612,
          "N_flags": 1,
          "Provider_ID": 1000022,
          "Total_score": 20.111652745269573,
          "Weighted_score": 1
         },
         {
          "Monetary": 612,
          "N_flags": 1,
          "Provider_ID": 1000453,
          "Total_score": 20.111652745269573,
          "Weighted_score": 1
         },
         {
          "Monetary": 303.3128571428572,
          "N_flags": 2,
          "Provider_ID": 1000285,
          "Total_score": 19.711259654504893,
          "Weighted_score": 0.8321846543914164
         },
         {
          "Monetary": 365.63001058200985,
          "N_flags": 2,
          "Provider_ID": 1000325,
          "Total_score": 19.485235981465763,
          "Weighted_score": 0.6666666666666666
         },
         {
          "Monetary": 297.5032338994346,
          "N_flags": 1,
          "Provider_ID": 1000317,
          "Total_score": 19.45799551594359,
          "Weighted_score": 1.5635003443855464
         },
         {
          "Monetary": 578,
          "N_flags": 1,
          "Provider_ID": 1000036,
          "Total_score": 19.272116481643483,
          "Weighted_score": 0.9444444444444444
         },
         {
          "Monetary": 578,
          "N_flags": 1,
          "Provider_ID": 1000030,
          "Total_score": 19.272116481643483,
          "Weighted_score": 0.9444444444444444
         },
         {
          "Monetary": 578,
          "N_flags": 1,
          "Provider_ID": 1000269,
          "Total_score": 19.272116481643483,
          "Weighted_score": 0.9444444444444444
         },
         {
          "Monetary": 578,
          "N_flags": 1,
          "Provider_ID": 1000353,
          "Total_score": 19.272116481643483,
          "Weighted_score": 0.9444444444444444
         },
         {
          "Monetary": 46,
          "N_flags": 1,
          "Provider_ID": 1000002,
          "Total_score": 18.841978849069747,
          "Weighted_score": 2
         },
         {
          "Monetary": 46,
          "N_flags": 1,
          "Provider_ID": 1000125,
          "Total_score": 18.841978849069747,
          "Weighted_score": 2
         },
         {
          "Monetary": 326.02285714285716,
          "N_flags": 2,
          "Provider_ID": 1000023,
          "Total_score": 18.758674250850273,
          "Weighted_score": 0.6400375678308058
         },
         {
          "Monetary": 330.03391324784786,
          "N_flags": 2,
          "Provider_ID": 1000014,
          "Total_score": 18.667857207167934,
          "Weighted_score": 0.6178300762055546
         },
         {
          "Monetary": 353.0742762112301,
          "N_flags": 1,
          "Provider_ID": 1000027,
          "Total_score": 18.59601175029696,
          "Weighted_score": 1.3158529833722763
         },
         {
          "Monetary": 544,
          "N_flags": 1,
          "Provider_ID": 1000051,
          "Total_score": 18.432580218017396,
          "Weighted_score": 0.8888888888888888
         },
         {
          "Monetary": 544,
          "N_flags": 1,
          "Provider_ID": 1000184,
          "Total_score": 18.432580218017396,
          "Weighted_score": 0.8888888888888888
         },
         {
          "Monetary": 455.55917750956996,
          "N_flags": 2,
          "Provider_ID": 1000336,
          "Total_score": 18.43003885194951,
          "Weighted_score": 0.3173704828387349
         },
         {
          "Monetary": 412.5241068794919,
          "N_flags": 2,
          "Provider_ID": 1000216,
          "Total_score": 18.33438453378033,
          "Weighted_score": 0.39353804379801743
         },
         {
          "Monetary": 716.7870638297802,
          "N_flags": 1,
          "Provider_ID": 1000186,
          "Total_score": 17.67699053484661,
          "Weighted_score": 0.4104305807984113
         },
         {
          "Monetary": 510,
          "N_flags": 1,
          "Provider_ID": 1000077,
          "Total_score": 17.59304395439131,
          "Weighted_score": 0.8333333333333334
         },
         {
          "Monetary": 61.89071396564577,
          "N_flags": 2,
          "Provider_ID": 1000380,
          "Total_score": 17.51149040096543,
          "Weighted_score": 1.0075266839746768
         },
         {
          "Monetary": 408,
          "N_flags": 2,
          "Provider_ID": 1000295,
          "Total_score": 17.362054884031785,
          "Weighted_score": 0.2557715704179598
         },
         {
          "Monetary": 37.16474296757979,
          "N_flags": 3,
          "Provider_ID": 1000324,
          "Total_score": 17.118184902784716,
          "Weighted_score": 0.24258955926966883
         },
         {
          "Monetary": 23,
          "N_flags": 2,
          "Provider_ID": 1000348,
          "Total_score": 16.873423409251753,
          "Weighted_score": 0.9927942838341006
         },
         {
          "Monetary": 476,
          "N_flags": 1,
          "Provider_ID": 1000171,
          "Total_score": 16.753507690765222,
          "Weighted_score": 0.7777777777777778
         },
         {
          "Monetary": 476,
          "N_flags": 1,
          "Provider_ID": 1000448,
          "Total_score": 16.753507690765222,
          "Weighted_score": 0.7777777777777778
         },
         {
          "Monetary": 476,
          "N_flags": 1,
          "Provider_ID": 1000024,
          "Total_score": 16.753507690765222,
          "Weighted_score": 0.7777777777777778
         },
         {
          "Monetary": 476,
          "N_flags": 1,
          "Provider_ID": 1000289,
          "Total_score": 16.753507690765222,
          "Weighted_score": 0.7777777777777778
         },
         {
          "Monetary": 0,
          "N_flags": 1,
          "Provider_ID": 1000140,
          "Total_score": 16.73057797724815,
          "Weighted_score": 1.7770505867031887
         },
         {
          "Monetary": 340,
          "N_flags": 2,
          "Provider_ID": 1000032,
          "Total_score": 16.627755927873984,
          "Weighted_score": 0.28778302599292593
         },
         {
          "Monetary": 508.54769454817097,
          "N_flags": 1,
          "Provider_ID": 1000250,
          "Total_score": 16.032021376489865,
          "Weighted_score": 0.5999154166472732
         },
         {
          "Monetary": 442,
          "N_flags": 1,
          "Provider_ID": 1000307,
          "Total_score": 15.913971427139135,
          "Weighted_score": 0.7222222222222222
         },
         {
          "Monetary": 442,
          "N_flags": 1,
          "Provider_ID": 1000369,
          "Total_score": 15.913971427139135,
          "Weighted_score": 0.7222222222222222
         },
         {
          "Monetary": 442,
          "N_flags": 1,
          "Provider_ID": 1000498,
          "Total_score": 15.913971427139135,
          "Weighted_score": 0.7222222222222222
         },
         {
          "Monetary": 442,
          "N_flags": 1,
          "Provider_ID": 1000245,
          "Total_score": 15.913971427139135,
          "Weighted_score": 0.7222222222222222
         },
         {
          "Monetary": 442,
          "N_flags": 1,
          "Provider_ID": 1000114,
          "Total_score": 15.913971427139135,
          "Weighted_score": 0.7222222222222222
         },
         {
          "Monetary": 408,
          "N_flags": 1,
          "Provider_ID": 1000432,
          "Total_score": 15.074435163513048,
          "Weighted_score": 0.6666666666666666
         },
         {
          "Monetary": 408,
          "N_flags": 1,
          "Provider_ID": 1000496,
          "Total_score": 15.074435163513048,
          "Weighted_score": 0.6666666666666666
         },
         {
          "Monetary": 408,
          "N_flags": 1,
          "Provider_ID": 1000267,
          "Total_score": 15.074435163513048,
          "Weighted_score": 0.6666666666666666
         },
         {
          "Monetary": 210.86345722756977,
          "N_flags": 1,
          "Provider_ID": 1000174,
          "Total_score": 14.533428012684734,
          "Weighted_score": 1
         },
         {
          "Monetary": 68.51064093575805,
          "N_flags": 1,
          "Provider_ID": 1000084,
          "Total_score": 14.372587674254452,
          "Weighted_score": 1.2755163773423306
         },
         {
          "Monetary": 374,
          "N_flags": 1,
          "Provider_ID": 1000018,
          "Total_score": 14.23489889988696,
          "Weighted_score": 0.6111111111111112
         },
         {
          "Monetary": 374,
          "N_flags": 1,
          "Provider_ID": 1000431,
          "Total_score": 14.23489889988696,
          "Weighted_score": 0.6111111111111112
         },
         {
          "Monetary": 449.3712675490023,
          "N_flags": 1,
          "Provider_ID": 1000255,
          "Total_score": 14.01454244440297,
          "Weighted_score": 0.4189517145941461
         },
         {
          "Monetary": 302.9110862779091,
          "N_flags": 1,
          "Provider_ID": 1000416,
          "Total_score": 13.926857064182059,
          "Weighted_score": 0.7142028615691288
         },
         {
          "Monetary": 493.1569988272701,
          "N_flags": 1,
          "Provider_ID": 1000338,
          "Total_score": 13.782521180515841,
          "Weighted_score": 0.29156364022765957
         },
         {
          "Monetary": 72.9861531779079,
          "N_flags": 1,
          "Provider_ID": 1000224,
          "Total_score": 13.746511659363266,
          "Weighted_score": 1.1712447456158313
         },
         {
          "Monetary": 91.05635897010913,
          "N_flags": 1,
          "Provider_ID": 1000358,
          "Total_score": 13.676940669568683,
          "Weighted_score": 1.1226386455429629
         },
         {
          "Monetary": 24.344494444660217,
          "N_flags": 2,
          "Provider_ID": 1000098,
          "Total_score": 13.662088963616554,
          "Weighted_score": 0.503480919418991
         },
         {
          "Monetary": 456.8918177744557,
          "N_flags": 1,
          "Provider_ID": 1000102,
          "Total_score": 13.598413411166021,
          "Weighted_score": 0.3400699808060706
         },
         {
          "Monetary": 340,
          "N_flags": 1,
          "Provider_ID": 1000406,
          "Total_score": 13.395362636260872,
          "Weighted_score": 0.5555555555555556
         },
         {
          "Monetary": 84.28323063666154,
          "N_flags": 1,
          "Provider_ID": 1000485,
          "Total_score": 13.10399143284884,
          "Weighted_score": 1.050111622726078
         },
         {
          "Monetary": 306,
          "N_flags": 1,
          "Provider_ID": 1000343,
          "Total_score": 12.555826372634787,
          "Weighted_score": 0.5
         },
         {
          "Monetary": 306,
          "N_flags": 1,
          "Provider_ID": 1000035,
          "Total_score": 12.555826372634787,
          "Weighted_score": 0.5
         },
         {
          "Monetary": 306,
          "N_flags": 1,
          "Provider_ID": 1000437,
          "Total_score": 12.555826372634787,
          "Weighted_score": 0.5
         },
         {
          "Monetary": 306,
          "N_flags": 1,
          "Provider_ID": 1000013,
          "Total_score": 12.555826372634787,
          "Weighted_score": 0.5
         },
         {
          "Monetary": 61.73997974527424,
          "N_flags": 1,
          "Provider_ID": 1000079,
          "Total_score": 12.472134963428124,
          "Weighted_score": 1.0018823161922261
         },
         {
          "Monetary": 61.153424239707405,
          "N_flags": 1,
          "Provider_ID": 1000381,
          "Total_score": 12.45155284131009,
          "Weighted_score": 1
         },
         {
          "Monetary": 410.9885384615367,
          "N_flags": 1,
          "Provider_ID": 1000419,
          "Total_score": 12.362047740167792,
          "Weighted_score": 0.2494748029273414
         },
         {
          "Monetary": 54.46384300595264,
          "N_flags": 1,
          "Provider_ID": 1000107,
          "Total_score": 12.358527191662567,
          "Weighted_score": 1
         },
         {
          "Monetary": 0.43642648362533687,
          "N_flags": 2,
          "Provider_ID": 1000486,
          "Total_score": 12.019059786671153,
          "Weighted_score": 0.30494546147366375
         },
         {
          "Monetary": 23,
          "N_flags": 1,
          "Provider_ID": 1000064,
          "Total_score": 11.920989424534874,
          "Weighted_score": 1
         },
         {
          "Monetary": 23,
          "N_flags": 1,
          "Provider_ID": 1000386,
          "Total_score": 11.920989424534874,
          "Weighted_score": 1
         },
         {
          "Monetary": 23,
          "N_flags": 1,
          "Provider_ID": 1000100,
          "Total_score": 11.920989424534874,
          "Weighted_score": 1
         },
         {
          "Monetary": 23,
          "N_flags": 1,
          "Provider_ID": 1000495,
          "Total_score": 11.920989424534874,
          "Weighted_score": 1
         },
         {
          "Monetary": 23,
          "N_flags": 1,
          "Provider_ID": 1000401,
          "Total_score": 11.920989424534874,
          "Weighted_score": 1
         },
         {
          "Monetary": 23,
          "N_flags": 1,
          "Provider_ID": 1000493,
          "Total_score": 11.920989424534874,
          "Weighted_score": 1
         },
         {
          "Monetary": 23,
          "N_flags": 1,
          "Provider_ID": 1000474,
          "Total_score": 11.920989424534874,
          "Weighted_score": 1
         },
         {
          "Monetary": 23,
          "N_flags": 1,
          "Provider_ID": 1000067,
          "Total_score": 11.920989424534874,
          "Weighted_score": 1
         },
         {
          "Monetary": 23,
          "N_flags": 1,
          "Provider_ID": 1000473,
          "Total_score": 11.920989424534874,
          "Weighted_score": 1
         },
         {
          "Monetary": 23,
          "N_flags": 1,
          "Provider_ID": 1000408,
          "Total_score": 11.920989424534874,
          "Weighted_score": 1
         },
         {
          "Monetary": 23,
          "N_flags": 1,
          "Provider_ID": 1000461,
          "Total_score": 11.920989424534874,
          "Weighted_score": 1
         },
         {
          "Monetary": 23,
          "N_flags": 1,
          "Provider_ID": 1000460,
          "Total_score": 11.920989424534874,
          "Weighted_score": 1
         },
         {
          "Monetary": 23,
          "N_flags": 1,
          "Provider_ID": 1000439,
          "Total_score": 11.920989424534874,
          "Weighted_score": 1
         },
         {
          "Monetary": 23,
          "N_flags": 1,
          "Provider_ID": 1000421,
          "Total_score": 11.920989424534874,
          "Weighted_score": 1
         },
         {
          "Monetary": 23,
          "N_flags": 1,
          "Provider_ID": 1000434,
          "Total_score": 11.920989424534874,
          "Weighted_score": 1
         },
         {
          "Monetary": 23,
          "N_flags": 1,
          "Provider_ID": 1000249,
          "Total_score": 11.920989424534874,
          "Weighted_score": 1
         },
         {
          "Monetary": 23,
          "N_flags": 1,
          "Provider_ID": 1000373,
          "Total_score": 11.920989424534874,
          "Weighted_score": 1
         },
         {
          "Monetary": 23,
          "N_flags": 1,
          "Provider_ID": 1000144,
          "Total_score": 11.920989424534874,
          "Weighted_score": 1
         },
         {
          "Monetary": 23,
          "N_flags": 1,
          "Provider_ID": 1000210,
          "Total_score": 11.920989424534874,
          "Weighted_score": 1
         },
         {
          "Monetary": 23,
          "N_flags": 1,
          "Provider_ID": 1000211,
          "Total_score": 11.920989424534874,
          "Weighted_score": 1
         },
         {
          "Monetary": 23,
          "N_flags": 1,
          "Provider_ID": 1000183,
          "Total_score": 11.920989424534874,
          "Weighted_score": 1
         },
         {
          "Monetary": 23,
          "N_flags": 1,
          "Provider_ID": 1000326,
          "Total_score": 11.920989424534874,
          "Weighted_score": 1
         },
         {
          "Monetary": 23,
          "N_flags": 1,
          "Provider_ID": 1000332,
          "Total_score": 11.920989424534874,
          "Weighted_score": 1
         },
         {
          "Monetary": 23,
          "N_flags": 1,
          "Provider_ID": 1000218,
          "Total_score": 11.920989424534874,
          "Weighted_score": 1
         },
         {
          "Monetary": 23,
          "N_flags": 1,
          "Provider_ID": 1000166,
          "Total_score": 11.920989424534874,
          "Weighted_score": 1
         },
         {
          "Monetary": 23,
          "N_flags": 1,
          "Provider_ID": 1000304,
          "Total_score": 11.920989424534874,
          "Weighted_score": 1
         },
         {
          "Monetary": 23,
          "N_flags": 1,
          "Provider_ID": 1000156,
          "Total_score": 11.920989424534874,
          "Weighted_score": 1
         },
         {
          "Monetary": 23,
          "N_flags": 1,
          "Provider_ID": 1000209,
          "Total_score": 11.920989424534874,
          "Weighted_score": 1
         },
         {
          "Monetary": 23,
          "N_flags": 1,
          "Provider_ID": 1000232,
          "Total_score": 11.920989424534874,
          "Weighted_score": 1
         },
         {
          "Monetary": 23,
          "N_flags": 1,
          "Provider_ID": 1000239,
          "Total_score": 11.920989424534874,
          "Weighted_score": 1
         },
         {
          "Monetary": 36.83683035714307,
          "N_flags": 1,
          "Provider_ID": 1000121,
          "Total_score": 11.837265533237817,
          "Weighted_score": 0.9581679659827776
         },
         {
          "Monetary": 272,
          "N_flags": 1,
          "Provider_ID": 1000347,
          "Total_score": 11.716290109008698,
          "Weighted_score": 0.4444444444444444
         },
         {
          "Monetary": 81.05778266334141,
          "N_flags": 2,
          "Provider_ID": 1000124,
          "Total_score": 11.666335128658842,
          "Weighted_score": 0.08167388182484737
         },
         {
          "Monetary": 288.6127595220313,
          "N_flags": 1,
          "Provider_ID": 1000400,
          "Total_score": 11.660481042684271,
          "Weighted_score": 0.4009933919639398
         },
         {
          "Monetary": 365.93191757411705,
          "N_flags": 1,
          "Provider_ID": 1000414,
          "Total_score": 11.577312583041934,
          "Weighted_score": 0.225512987573436
         },
         {
          "Monetary": 355.4355190440617,
          "N_flags": 1,
          "Provider_ID": 1000465,
          "Total_score": 11.572645973702514,
          "Weighted_score": 0.24691786780664143
         },
         {
          "Monetary": 133.38132265425614,
          "N_flags": 1,
          "Provider_ID": 1000370,
          "Total_score": 11.523629748530805,
          "Weighted_score": 0.7072740716641343
         },
         {
          "Monetary": 332.1581165048525,
          "N_flags": 1,
          "Provider_ID": 1000129,
          "Total_score": 11.37654273333067,
          "Weighted_score": 0.2662468442267942
         },
         {
          "Monetary": 0,
          "N_flags": 1,
          "Provider_ID": 1000469,
          "Total_score": 10.879237102827755,
          "Weighted_score": 0.8906382757278357
         },
         {
          "Monetary": 238,
          "N_flags": 1,
          "Provider_ID": 1000471,
          "Total_score": 10.876753845382611,
          "Weighted_score": 0.3888888888888889
         },
         {
          "Monetary": 23.82410287359562,
          "N_flags": 1,
          "Provider_ID": 1000335,
          "Total_score": 10.793110566868135,
          "Weighted_score": 0.8274029790269697
         },
         {
          "Monetary": 0,
          "N_flags": 1,
          "Provider_ID": 1000283,
          "Total_score": 10.786407068220013,
          "Weighted_score": 0.8765755698847548
         },
         {
          "Monetary": 300.64169006533416,
          "N_flags": 1,
          "Provider_ID": 1000278,
          "Total_score": 10.568416486867784,
          "Weighted_score": 0.2102176317675096
         },
         {
          "Monetary": 0,
          "N_flags": 1,
          "Provider_ID": 1000337,
          "Total_score": 10.439655004871542,
          "Weighted_score": 0.8240465334801486
         },
         {
          "Monetary": 0,
          "N_flags": 1,
          "Provider_ID": 1000037,
          "Total_score": 10.435721267249601,
          "Weighted_score": 0.8234506164876045
         },
         {
          "Monetary": 0,
          "N_flags": 1,
          "Provider_ID": 1000339,
          "Total_score": 10.433039474353727,
          "Weighted_score": 0.8230443550358437
         },
         {
          "Monetary": 210.62892830470474,
          "N_flags": 1,
          "Provider_ID": 1000244,
          "Total_score": 9.509569680152875,
          "Weighted_score": 0.23943604538374588
         },
         {
          "Monetary": 62.32658278737629,
          "N_flags": 1,
          "Provider_ID": 1000062,
          "Total_score": 9.428179916363636,
          "Weighted_score": 0.5395216292056594
         },
         {
          "Monetary": 48.63218566269132,
          "N_flags": 1,
          "Provider_ID": 1000195,
          "Total_score": 9.169079806613997,
          "Weighted_score": 0.5291196327791055
         },
         {
          "Monetary": 181.4752270351003,
          "N_flags": 1,
          "Provider_ID": 1000019,
          "Total_score": 9.052137496037663,
          "Weighted_score": 0.23155569714592975
         },
         {
          "Monetary": 28.369001489486642,
          "N_flags": 1,
          "Provider_ID": 1000390,
          "Total_score": 8.979462409996408,
          "Weighted_score": 0.5430813587365029
         },
         {
          "Monetary": 61.58859207304431,
          "N_flags": 1,
          "Provider_ID": 1000181,
          "Total_score": 8.961774206202294,
          "Weighted_score": 0.4704210701771633
         },
         {
          "Monetary": 220.16730470500562,
          "N_flags": 1,
          "Provider_ID": 1000273,
          "Total_score": 8.96133171562151,
          "Weighted_score": 0.13629052183985882
         },
         {
          "Monetary": 191.48262957430754,
          "N_flags": 1,
          "Provider_ID": 1000452,
          "Total_score": 8.958314567024711,
          "Weighted_score": 0.19626088381352622
         },
         {
          "Monetary": 15.821583854676387,
          "N_flags": 1,
          "Provider_ID": 1000049,
          "Total_score": 8.820051346342453,
          "Weighted_score": 0.545364892659294
         },
         {
          "Monetary": 136,
          "N_flags": 1,
          "Provider_ID": 1000392,
          "Total_score": 8.358145054504348,
          "Weighted_score": 0.2222222222222222
         },
         {
          "Monetary": 31.55989898989901,
          "N_flags": 1,
          "Provider_ID": 1000277,
          "Total_score": 8.298433264052647,
          "Weighted_score": 0.4331911282909467
         },
         {
          "Monetary": 172.75195007539992,
          "N_flags": 1,
          "Provider_ID": 1000070,
          "Total_score": 8.09335538885607,
          "Weighted_score": 0.10468753810387153
         },
         {
          "Monetary": 9.058567895389388,
          "N_flags": 1,
          "Provider_ID": 1000455,
          "Total_score": 7.635348965650743,
          "Weighted_score": 0.38014284833336437
         },
         {
          "Monetary": 37.47148906257759,
          "N_flags": 1,
          "Provider_ID": 1000187,
          "Total_score": 6.7898559102360405,
          "Weighted_score": 0.19220521640075725
         },
         {
          "Monetary": 100.04732383982744,
          "N_flags": 1,
          "Provider_ID": 1000410,
          "Total_score": 6.727110730526322,
          "Weighted_score": 0.050877142706359145
         },
         {
          "Monetary": 74.25094253643721,
          "N_flags": 1,
          "Provider_ID": 1000227,
          "Total_score": 6.6470726554708435,
          "Weighted_score": 0.09309519194076207
         },
         {
          "Monetary": 66.10078003015315,
          "N_flags": 1,
          "Provider_ID": 1000044,
          "Total_score": 6.580256722199884,
          "Weighted_score": 0.10014254434004931
         },
         {
          "Monetary": 69.34662285287197,
          "N_flags": 1,
          "Provider_ID": 1000385,
          "Total_score": 6.229343391702045,
          "Weighted_score": 0.04014539754044627
         },
         {
          "Monetary": 25.39489451441436,
          "N_flags": 1,
          "Provider_ID": 1000321,
          "Total_score": 6.045581705637259,
          "Weighted_score": 0.10489672390736449
         },
         {
          "Monetary": 34,
          "N_flags": 1,
          "Provider_ID": 1000071,
          "Total_score": 5.839536263626087,
          "Weighted_score": 0.05555555555555555
         },
         {
          "Monetary": 38.67071396564569,
          "N_flags": 1,
          "Provider_ID": 1000056,
          "Total_score": 5.779576795647768,
          "Weighted_score": 0.036632997576293264
         },
         {
          "Monetary": 10.227508417508034,
          "N_flags": 1,
          "Provider_ID": 1000197,
          "Total_score": 5.733727050257632,
          "Weighted_score": 0.08960602077223649
         },
         {
          "Monetary": 29.29654380967719,
          "N_flags": 1,
          "Provider_ID": 1000456,
          "Total_score": 5.555434629301204,
          "Weighted_score": 0.022425702554311547
         },
         {
          "Monetary": 4.769309482044875,
          "N_flags": 1,
          "Provider_ID": 1000281,
          "Total_score": 5.353305851052055,
          "Weighted_score": 0.04347478603291422
         },
         {
          "Monetary": 4.36706382977988,
          "N_flags": 1,
          "Provider_ID": 1000133,
          "Total_score": 5.0772352482749845,
          "Weighted_score": 0.002500570440632195
         },
         {
          "Monetary": 1.1320776699039925,
          "N_flags": 1,
          "Provider_ID": 1000444,
          "Total_score": 5.024727906797282,
          "Weighted_score": 0.0013611534329034999
         },
         {
          "Monetary": 0.08428883876556602,
          "N_flags": 1,
          "Provider_ID": 1000026,
          "Total_score": 5.006555528341617,
          "Weighted_score": 0.0008155250715092826
         }
        ]
       },
       "encoding": {
        "color": {
         "field": "N_flags",
         "type": "nominal"
        },
        "size": {
         "field": "N_flags",
         "type": "quantitative"
        },
        "tooltip": [
         {
          "field": "Provider_ID",
          "type": "quantitative"
         },
         {
          "field": "Total_score",
          "type": "quantitative"
         },
         {
          "field": "Monetary",
          "type": "quantitative"
         },
         {
          "field": "N_flags",
          "type": "quantitative"
         }
        ],
        "x": {
         "axis": {
          "title": "Total Score"
         },
         "field": "Total_score",
         "type": "quantitative"
        },
        "y": {
         "axis": {
          "format": "$f",
          "title": "Estimated Monetary Loss"
         },
         "field": "Monetary",
         "type": "quantitative"
        }
       },
       "mark": "point",
       "selection": {
        "selector012": {
         "bind": "scales",
         "encodings": [
          "x",
          "y"
         ],
         "mark": {
          "fill": "#333",
          "fillOpacity": 0.125,
          "stroke": "white"
         },
         "on": "[mousedown, window:mouseup] > window:mousemove!",
         "resolve": "global",
         "translate": "[mousedown, window:mouseup] > window:mousemove!",
         "type": "interval",
         "zoom": "wheel!"
        }
       }
      },
      "image/png": "[encoded data removed]",
      "text/plain": [
       "<VegaLite 2 object>\n",
       "\n",
       "If you see this message, it means the renderer has not been properly enabled\n",
       "for the frontend that you are using. For more information, see\n",
       "https://altair-viz.github.io/user_guide/troubleshooting.html\n"
      ]
     },
     "execution_count": 30,
     "metadata": {},
     "output_type": "execute_result"
    }
   ],
   "source": [
    "import altair as alt\n",
    "alt.Chart(total_scores.reset_index()).mark_point().encode(\n",
    "    alt.X(\"Total_score\", axis=alt.Axis(title='Total Score')),\n",
    "    alt.Y(\"Monetary\", axis=alt.Axis(format='$f', title='Estimated Monetary Loss')),\n",
    "    alt.Color(\"N_flags:N\"),\n",
    "    size=\"N_flags\",\n",
    "    tooltip=['Provider_ID:Q', 'Total_score', 'Monetary', 'N_flags']\n",
    ").interactive()"
   ]
  }
 ],
 "metadata": {
  "kernelspec": {
   "display_name": "Python 3",
   "language": "python",
   "name": "python3"
  },
  "language_info": {
   "codemirror_mode": {
    "name": "ipython",
    "version": 3
   },
   "file_extension": ".py",
   "mimetype": "text/x-python",
   "name": "python",
   "nbconvert_exporter": "python",
   "pygments_lexer": "ipython3",
   "version": "3.6.6"
  }
 },
 "nbformat": 4,
 "nbformat_minor": 2
}
